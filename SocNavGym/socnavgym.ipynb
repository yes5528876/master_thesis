{
 "cells": [
  {
   "cell_type": "code",
   "execution_count": 2,
   "metadata": {},
   "outputs": [
    {
     "name": "stderr",
     "output_type": "stream",
     "text": [
      "/home/jylong/.local/lib/python3.8/site-packages/gym/utils/passive_env_checker.py:64: UserWarning: \u001b[33mWARN: A Box action space maximum and minimum values are equal.\u001b[0m\n",
      "  logger.warn(\"A Box action space maximum and minimum values are equal.\")\n"
     ]
    }
   ],
   "source": [
    "import socnavgym\n",
    "import gym\n",
    "env = gym.make('SocNavGym-v1', config=\"./gsoc22-socnavenv/paper_configs/exp1_no_sngnn.yaml\")  "
   ]
  },
  {
   "cell_type": "code",
   "execution_count": null,
   "metadata": {},
   "outputs": [],
   "source": [
    "import socnavgym\n",
    "import gym\n",
    "# env = gym.make(\"SocNavGym-v1\", config=\"./gsoc22-socnavenv/configs/exp.yaml\") \n",
    "env = gym.make('SocNavGym-v1', config=\"./gsoc22-socnavenv/paper_configs/exp1_no_sngnn.yaml\")  \n",
    "\n",
    "obs, _ = env.reset()\n",
    "\n",
    "\n",
    "for i in range(1000):\n",
    "    obs, reward, terminated, truncated, info = env.step(env.action_space.sample())\n",
    "    print(obs)\n",
    "    env.render()\n",
    "    if terminated or truncated:\n",
    "        # print(obs)\n",
    "        # print(reward)\n",
    "        # print(info)\n",
    "        env.reset()"
   ]
  }
 ],
 "metadata": {
  "kernelspec": {
   "display_name": "base",
   "language": "python",
   "name": "python3"
  },
  "language_info": {
   "codemirror_mode": {
    "name": "ipython",
    "version": 3
   },
   "file_extension": ".py",
   "mimetype": "text/x-python",
   "name": "python",
   "nbconvert_exporter": "python",
   "pygments_lexer": "ipython3",
   "version": "3.8.0"
  },
  "orig_nbformat": 4
 },
 "nbformat": 4,
 "nbformat_minor": 2
}
