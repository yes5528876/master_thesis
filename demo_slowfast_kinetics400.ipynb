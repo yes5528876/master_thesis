{
  "cells": [
    {
      "cell_type": "code",
      "execution_count": null,
      "metadata": {
        "collapsed": false
      },
      "outputs": [],
      "source": [
        "%matplotlib inline"
      ]
    },
    {
      "cell_type": "markdown",
      "metadata": {},
      "source": [
        "# 5. Getting Started with Pre-trained SlowFast Models on Kinetcis400\n\n`Kinetics400 <https://deepmind.com/research/open-source/kinetics>`_  is an action recognition dataset\nof realistic action videos, collected from YouTube. With 306,245 short trimmed videos\nfrom 400 action categories, it is one of the largest and most widely used dataset in the research\ncommunity for benchmarking state-of-the-art video action recognition models.\n\n`SlowFast <https://arxiv.org/abs/1812.03982>`_ is a new 3D video classification model,\naiming for best trade-off between accuracy and efficiency. It proposes two branches,\nfast branch and slow branch, to handle different aspects in a video.\nFast branch is to capture motion dynamics by using many but small video frames.\nSlow branch is to capture fine apperance details by using few but large video frames.\nFeatures from two branches are combined using lateral connections.\n\nIn this tutorial, we will demonstrate how to load a pre-trained SlowFast model from `gluoncv-model-zoo`\nand classify a video clip from the Internet or your local disk into one of the 400 action classes.\n\n## Step by Step\n\nWe will try out a pre-trained SlowFast model on a single video clip.\n\nFirst, please follow the `installation guide <../../index.html#installation>`__\nto install ``MXNet`` and ``GluonCV`` if you haven't done so yet.\n\n"
      ]
    },
    {
      "cell_type": "code",
      "execution_count": null,
      "metadata": {
        "collapsed": false
      },
      "outputs": [],
      "source": [
        "import matplotlib.pyplot as plt\nimport numpy as np\nimport mxnet as mx\nfrom mxnet import gluon, nd, image\nfrom mxnet.gluon.data.vision import transforms\nfrom gluoncv.data.transforms import video\nfrom gluoncv import utils\nfrom gluoncv.model_zoo import get_model"
      ]
    },
    {
      "cell_type": "markdown",
      "metadata": {},
      "source": [
        "Then, we download the video and extract a 64-frame clip from it.\nNote that SlowFast has two branches, which require different inputs.\nThe fast branch needs more frames, which we sample every other frame (stride=2).\nThe slow branch needs less frames, which we sample every 16th frame (stride=16).\nIn the end, we have 32 frames as the input to the fast branch and 4 frames to the slow branch.\nHence, the final input to the whole network is a clip of 36 frames.\n\n"
      ]
    },
    {
      "cell_type": "code",
      "execution_count": null,
      "metadata": {
        "collapsed": false
      },
      "outputs": [],
      "source": [
        "from gluoncv.utils.filesystem import try_import_decord\ndecord = try_import_decord()\n\nurl = 'https://github.com/bryanyzhu/tiny-ucf101/raw/master/abseiling_k400.mp4'\nvideo_fname = utils.download(url)\nvr = decord.VideoReader(video_fname)\nfast_frame_id_list = range(0, 64, 2)\nslow_frame_id_list = range(0, 64, 16)\nframe_id_list = list(fast_frame_id_list) + list(slow_frame_id_list)\nvideo_data = vr.get_batch(frame_id_list).asnumpy()\nclip_input = [video_data[vid, :, :, :] for vid, _ in enumerate(frame_id_list)]"
      ]
    },
    {
      "cell_type": "markdown",
      "metadata": {},
      "source": [
        "Now we define transformations for the video clip.\nThis transformation function does three things:\ncenter crop each image to 224x224 in size,\ntranspose it to ``num_channels*num_frames*height*width``,\nand normalize with mean and standard deviation calculated across all ImageNet images.\n\n"
      ]
    },
    {
      "cell_type": "code",
      "execution_count": null,
      "metadata": {
        "collapsed": false
      },
      "outputs": [],
      "source": [
        "transform_fn = video.VideoGroupValTransform(size=224, mean=[0.485, 0.456, 0.406], std=[0.229, 0.224, 0.225])\nclip_input = transform_fn(clip_input)\nclip_input = np.stack(clip_input, axis=0)\nclip_input = clip_input.reshape((-1,) + (36, 3, 224, 224))\nclip_input = np.transpose(clip_input, (0, 2, 1, 3, 4))\nprint('Video data is downloaded and preprocessed.')"
      ]
    },
    {
      "cell_type": "markdown",
      "metadata": {},
      "source": [
        "Next, we load a pre-trained SlowFast model with ResNet50 as backbone.\n\n"
      ]
    },
    {
      "cell_type": "code",
      "execution_count": null,
      "metadata": {
        "collapsed": false
      },
      "outputs": [],
      "source": [
        "model_name = 'slowfast_4x16_resnet50_kinetics400'\nnet = get_model(model_name, nclass=400, pretrained=True)\nprint('%s model is successfully loaded.' % model_name)"
      ]
    },
    {
      "cell_type": "markdown",
      "metadata": {},
      "source": [
        "Finally, we prepare the video clip and feed it to the model.\n\n"
      ]
    },
    {
      "cell_type": "code",
      "execution_count": null,
      "metadata": {
        "collapsed": false
      },
      "outputs": [],
      "source": [
        "pred = net(nd.array(clip_input))\n\nclasses = net.classes\ntopK = 5\nind = nd.topk(pred, k=topK)[0].astype('int')\nprint('The input video clip is classified to be')\nfor i in range(topK):\n    print('\\t[%s], with probability %.3f.'%\n          (classes[ind[i].asscalar()], nd.softmax(pred)[0][ind[i]].asscalar()))"
      ]
    },
    {
      "cell_type": "markdown",
      "metadata": {},
      "source": [
        "We can see that our pre-trained model predicts this video clip\nto be ``abseiling`` action with high confidence.\n\n"
      ]
    },
    {
      "cell_type": "markdown",
      "metadata": {},
      "source": [
        "## Next Step\n\nIf you would like to dive deeper into training SlowFast models on ``Kinetics400``,\nfeel free to read the next `tutorial on Kinetics400 <dive_deep_slowfast_kinetics400.html>`__.\n\n"
      ]
    }
  ],
  "metadata": {
    "kernelspec": {
      "display_name": "Python 3",
      "language": "python",
      "name": "python3"
    },
    "language_info": {
      "codemirror_mode": {
        "name": "ipython",
        "version": 3
      },
      "file_extension": ".py",
      "mimetype": "text/x-python",
      "name": "python",
      "nbconvert_exporter": "python",
      "pygments_lexer": "ipython3",
      "version": "3.6.9"
    }
  },
  "nbformat": 4,
  "nbformat_minor": 0
}